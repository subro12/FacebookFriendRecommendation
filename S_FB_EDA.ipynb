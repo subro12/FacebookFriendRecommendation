{
  "nbformat": 4,
  "nbformat_minor": 0,
  "metadata": {
    "kernelspec": {
      "display_name": "Python 3",
      "language": "python",
      "name": "python3"
    },
    "language_info": {
      "codemirror_mode": {
        "name": "ipython",
        "version": 3
      },
      "file_extension": ".py",
      "mimetype": "text/x-python",
      "name": "python",
      "nbconvert_exporter": "python",
      "pygments_lexer": "ipython3",
      "version": "3.6.5"
    },
    "colab": {
      "name": "FB_EDA.ipynb",
      "provenance": [],
      "include_colab_link": true
    },
    "accelerator": "GPU"
  },
  "cells": [
    {
      "cell_type": "markdown",
      "metadata": {
        "id": "view-in-github",
        "colab_type": "text"
      },
      "source": [
        "<a href=\"https://colab.research.google.com/github/subro12/FacebookFriendRecommendation/blob/main/S_FB_EDA.ipynb\" target=\"_parent\"><img src=\"https://colab.research.google.com/assets/colab-badge.svg\" alt=\"Open In Colab\"/></a>"
      ]
    },
    {
      "cell_type": "code",
      "metadata": {
        "id": "ei_9RJdrxQ44"
      },
      "source": [
        ""
      ],
      "execution_count": null,
      "outputs": []
    },
    {
      "cell_type": "markdown",
      "metadata": {
        "id": "_ngfVeOrX7If"
      },
      "source": [
        "<p style=\"font-size:32px;text-align:center\"> <b>Social network Graph Link Prediction - Facebook Challenge</b> </p>"
      ]
    },
    {
      "cell_type": "markdown",
      "metadata": {
        "id": "BIdTcywoX7Ih"
      },
      "source": [
        "### Problem statement: \n",
        "Given a directed social graph, have to predict missing links to recommend users (Link Prediction in graph)"
      ]
    },
    {
      "cell_type": "markdown",
      "metadata": {
        "id": "EKXSOWj3X7Ii"
      },
      "source": [
        "### Data Overview\n",
        "Taken data from facebook's recruting challenge on kaggle https://www.kaggle.com/c/FacebookRecruiting  \n",
        "data contains two columns source and destination eac edge in graph \n",
        "    - Data columns (total 2 columns):  \n",
        "    - source_node         int64  \n",
        "    - destination_node    int64  "
      ]
    },
    {
      "cell_type": "markdown",
      "metadata": {
        "id": "frIBf5F2X7Ij"
      },
      "source": [
        "### Mapping the problem into supervised learning problem:\n",
        "- Generated training samples of good and bad links from given directed graph and for each link got some features like no of followers, is he followed back, page rank, katz score, adar index, some svd fetures of adj matrix, some weight features etc. and trained ml model based on these features to predict link. \n",
        "- Some reference papers and videos :  \n",
        "    - https://www.cs.cornell.edu/home/kleinber/link-pred.pdf\n",
        "    - https://www3.nd.edu/~dial/publications/lichtenwalter2010new.pdf\n",
        "    - https://kaggle2.blob.core.windows.net/forum-message-attachments/2594/supervised_link_prediction.pdf\n",
        "    - https://www.youtube.com/watch?v=2M77Hgy17cg"
      ]
    },
    {
      "cell_type": "markdown",
      "metadata": {
        "id": "zej3Dqi7X7Ik"
      },
      "source": [
        "### Business objectives and constraints:  \n",
        "- No low-latency requirement.\n",
        "- Probability of prediction is useful to recommend ighest probability links"
      ]
    },
    {
      "cell_type": "markdown",
      "metadata": {
        "id": "fSW6zbsHX7Il"
      },
      "source": [
        "### Performance metric for supervised learning:  \n",
        "- Both precision and recall is important so F1 score is good choice\n",
        "- Confusion matrix"
      ]
    },
    {
      "cell_type": "code",
      "metadata": {
        "id": "DLt68-c3sm5b"
      },
      "source": [
        "import pandas as pd\n",
        "import numpy as np\n",
        "import networkx as nx\n",
        "import matplotlib.pylab as plt\n",
        "\n",
        "%matplotlib inline\n",
        "\n",
        "import seaborn as sns\n",
        "from collections import Counter\n",
        "import csv\n",
        "import random\n",
        "import pickle\n",
        "from sklearn.model_selection import train_test_split\n",
        "import sys"
      ],
      "execution_count": 67,
      "outputs": []
    },
    {
      "cell_type": "code",
      "metadata": {
        "id": "Uz0zLjFasxGa",
        "outputId": "8d07b4e9-911a-47f6-dbb0-a4aedab9ee80",
        "colab": {
          "base_uri": "https://localhost:8080/",
          "height": 34
        }
      },
      "source": [
        "from google.colab import drive\n",
        "drive.mount('/content/drive')"
      ],
      "execution_count": 2,
      "outputs": [
        {
          "output_type": "stream",
          "text": [
            "Drive already mounted at /content/drive; to attempt to forcibly remount, call drive.mount(\"/content/drive\", force_remount=True).\n"
          ],
          "name": "stdout"
        }
      ]
    },
    {
      "cell_type": "code",
      "metadata": {
        "id": "ykRug-e4s2Kj",
        "outputId": "75ebc024-22ea-469d-f746-3d4f8c1498f6",
        "colab": {
          "base_uri": "https://localhost:8080/",
          "height": 34
        }
      },
      "source": [
        "%cd drive/My\\ Drive/Case_studies/Facebook/Facebook/data/"
      ],
      "execution_count": 3,
      "outputs": [
        {
          "output_type": "stream",
          "text": [
            "/content/drive/.shortcut-targets-by-id/1c50Q5RcmdpMYj1jCPc3ShOE2y4G8G2ez/Facebook/data\n"
          ],
          "name": "stdout"
        }
      ]
    },
    {
      "cell_type": "code",
      "metadata": {
        "id": "x-pL5G29s56N",
        "outputId": "90876bdc-f12b-4ea3-b6f5-33d85b11bafc",
        "colab": {
          "base_uri": "https://localhost:8080/",
          "height": 34
        }
      },
      "source": [
        "!ls"
      ],
      "execution_count": 4,
      "outputs": [
        {
          "output_type": "stream",
          "text": [
            "after_eda  fea_sample  test_y.csv  train.csv  train_y.csv\n"
          ],
          "name": "stdout"
        }
      ]
    },
    {
      "cell_type": "code",
      "metadata": {
        "id": "f9ZgwFYms66S"
      },
      "source": [
        "traincsv = pd.read_csv('train.csv')"
      ],
      "execution_count": 5,
      "outputs": []
    },
    {
      "cell_type": "code",
      "metadata": {
        "id": "QUtcttXqtHTK",
        "outputId": "d15c4434-bcf1-4588-d313-878f92ef41c4",
        "colab": {
          "base_uri": "https://localhost:8080/",
          "height": 34
        }
      },
      "source": [
        "traincsv.shape,traincsv.columns"
      ],
      "execution_count": 6,
      "outputs": [
        {
          "output_type": "execute_result",
          "data": {
            "text/plain": [
              "((9437519, 2), Index(['source_node', 'destination_node'], dtype='object'))"
            ]
          },
          "metadata": {
            "tags": []
          },
          "execution_count": 6
        }
      ]
    },
    {
      "cell_type": "code",
      "metadata": {
        "id": "JvYZyvcftOqX",
        "outputId": "96faf559-eb74-4105-ba8d-a619767e23f3",
        "colab": {
          "base_uri": "https://localhost:8080/",
          "height": 195
        }
      },
      "source": [
        "traincsv.head()"
      ],
      "execution_count": 7,
      "outputs": [
        {
          "output_type": "execute_result",
          "data": {
            "text/html": [
              "<div>\n",
              "<style scoped>\n",
              "    .dataframe tbody tr th:only-of-type {\n",
              "        vertical-align: middle;\n",
              "    }\n",
              "\n",
              "    .dataframe tbody tr th {\n",
              "        vertical-align: top;\n",
              "    }\n",
              "\n",
              "    .dataframe thead th {\n",
              "        text-align: right;\n",
              "    }\n",
              "</style>\n",
              "<table border=\"1\" class=\"dataframe\">\n",
              "  <thead>\n",
              "    <tr style=\"text-align: right;\">\n",
              "      <th></th>\n",
              "      <th>source_node</th>\n",
              "      <th>destination_node</th>\n",
              "    </tr>\n",
              "  </thead>\n",
              "  <tbody>\n",
              "    <tr>\n",
              "      <th>0</th>\n",
              "      <td>1</td>\n",
              "      <td>690569</td>\n",
              "    </tr>\n",
              "    <tr>\n",
              "      <th>1</th>\n",
              "      <td>1</td>\n",
              "      <td>315892</td>\n",
              "    </tr>\n",
              "    <tr>\n",
              "      <th>2</th>\n",
              "      <td>1</td>\n",
              "      <td>189226</td>\n",
              "    </tr>\n",
              "    <tr>\n",
              "      <th>3</th>\n",
              "      <td>2</td>\n",
              "      <td>834328</td>\n",
              "    </tr>\n",
              "    <tr>\n",
              "      <th>4</th>\n",
              "      <td>2</td>\n",
              "      <td>1615927</td>\n",
              "    </tr>\n",
              "  </tbody>\n",
              "</table>\n",
              "</div>"
            ],
            "text/plain": [
              "   source_node  destination_node\n",
              "0            1            690569\n",
              "1            1            315892\n",
              "2            1            189226\n",
              "3            2            834328\n",
              "4            2           1615927"
            ]
          },
          "metadata": {
            "tags": []
          },
          "execution_count": 7
        }
      ]
    },
    {
      "cell_type": "code",
      "metadata": {
        "id": "XzKNiuC4tRnH",
        "outputId": "317de414-7b73-4219-d470-148f0549260a",
        "colab": {
          "base_uri": "https://localhost:8080/",
          "height": 47
        }
      },
      "source": [
        "traincsv[traincsv.isnull().any(1)]\n",
        "# no nulls in the dataset"
      ],
      "execution_count": 8,
      "outputs": [
        {
          "output_type": "execute_result",
          "data": {
            "text/html": [
              "<div>\n",
              "<style scoped>\n",
              "    .dataframe tbody tr th:only-of-type {\n",
              "        vertical-align: middle;\n",
              "    }\n",
              "\n",
              "    .dataframe tbody tr th {\n",
              "        vertical-align: top;\n",
              "    }\n",
              "\n",
              "    .dataframe thead th {\n",
              "        text-align: right;\n",
              "    }\n",
              "</style>\n",
              "<table border=\"1\" class=\"dataframe\">\n",
              "  <thead>\n",
              "    <tr style=\"text-align: right;\">\n",
              "      <th></th>\n",
              "      <th>source_node</th>\n",
              "      <th>destination_node</th>\n",
              "    </tr>\n",
              "  </thead>\n",
              "  <tbody>\n",
              "  </tbody>\n",
              "</table>\n",
              "</div>"
            ],
            "text/plain": [
              "Empty DataFrame\n",
              "Columns: [source_node, destination_node]\n",
              "Index: []"
            ]
          },
          "metadata": {
            "tags": []
          },
          "execution_count": 8
        }
      ]
    },
    {
      "cell_type": "code",
      "metadata": {
        "id": "ezXMTx85tdGs",
        "outputId": "590db49c-7393-459b-dbee-67774e9e12c3",
        "colab": {
          "base_uri": "https://localhost:8080/",
          "height": 168
        }
      },
      "source": [
        "traincsv.info()"
      ],
      "execution_count": 9,
      "outputs": [
        {
          "output_type": "stream",
          "text": [
            "<class 'pandas.core.frame.DataFrame'>\n",
            "RangeIndex: 9437519 entries, 0 to 9437518\n",
            "Data columns (total 2 columns):\n",
            " #   Column            Dtype\n",
            "---  ------            -----\n",
            " 0   source_node       int64\n",
            " 1   destination_node  int64\n",
            "dtypes: int64(2)\n",
            "memory usage: 144.0 MB\n"
          ],
          "name": "stdout"
        }
      ]
    },
    {
      "cell_type": "code",
      "metadata": {
        "id": "ovulEc0CtgpB",
        "outputId": "918e09b3-b1a3-4b65-a02b-1ab2ba4f940d",
        "colab": {
          "base_uri": "https://localhost:8080/",
          "height": 34
        }
      },
      "source": [
        "print(\"Number of duplicated entris are -->\",sum(traincsv.duplicated()))\n",
        "# There are no duplicates in the dataset"
      ],
      "execution_count": 10,
      "outputs": [
        {
          "output_type": "stream",
          "text": [
            "Number of duplicated entris are --> 0\n"
          ],
          "name": "stdout"
        }
      ]
    },
    {
      "cell_type": "code",
      "metadata": {
        "id": "m0_W7CBWtuK8",
        "outputId": "a6837d68-c4bc-403e-b3a4-c20ce54df245",
        "colab": {
          "base_uri": "https://localhost:8080/",
          "height": 118
        }
      },
      "source": [
        "g=nx.read_edgelist('after_eda/train_woheader.csv',delimiter=',',create_using=nx.DiGraph,nodetype=int)\n",
        "print(nx.info(g))"
      ],
      "execution_count": 11,
      "outputs": [
        {
          "output_type": "stream",
          "text": [
            "Name: \n",
            "Type: DiGraph\n",
            "Number of nodes: 1862220\n",
            "Number of edges: 9437519\n",
            "Average in degree:   5.0679\n",
            "Average out degree:   5.0679\n"
          ],
          "name": "stdout"
        }
      ]
    },
    {
      "cell_type": "markdown",
      "metadata": {
        "id": "0Iza6W9Fw8tf"
      },
      "source": [
        "<pre>\n",
        "Observations\n",
        "1. we have around 1.8M nodes with edges of 9M.\n",
        "2. Average in degree is 5.0679 and outdegree is 5.0679\n",
        "3. Surprisingly Avg in degree and out degree are same.\n",
        "</pre>"
      ]
    },
    {
      "cell_type": "markdown",
      "metadata": {
        "id": "xqH7wRBjxoDj"
      },
      "source": [
        "Lets draw a subgraph and visalize how it looks"
      ]
    },
    {
      "cell_type": "code",
      "metadata": {
        "id": "ABQU2iLYx0Ol",
        "outputId": "31787057-29a0-4f35-f9bb-3e792a92f09b",
        "colab": {
          "base_uri": "https://localhost:8080/",
          "height": 34
        }
      },
      "source": [
        "!ls "
      ],
      "execution_count": 12,
      "outputs": [
        {
          "output_type": "stream",
          "text": [
            "after_eda  fea_sample  test_y.csv  train.csv  train_y.csv\n"
          ],
          "name": "stdout"
        }
      ]
    },
    {
      "cell_type": "code",
      "metadata": {
        "id": "x6JmdTQJvhN1"
      },
      "source": [
        "# you can draw subgraph using below lines of code.\n",
        "# pos = nx.spring_layout(g)\n",
        "# nx.draw(subgraph,pos,node_color='#A0CBE2',edge_color='#00bb5e',width=1,edge_cmap=plt.cm.Blues,with_labels=True)\n",
        "# plt.savefig(\"graph_sample.pdf\")\n",
        "# print(nx.info(subgraph))"
      ],
      "execution_count": 13,
      "outputs": []
    },
    {
      "cell_type": "code",
      "metadata": {
        "id": "TZBBLF4SyvGO",
        "outputId": "d28d6d5b-c55c-4aef-bd34-4b9e5dc5ed10",
        "colab": {
          "base_uri": "https://localhost:8080/",
          "height": 34
        }
      },
      "source": [
        "print(\"Number of nodes are {}\".format(len(g.nodes)))"
      ],
      "execution_count": 14,
      "outputs": [
        {
          "output_type": "stream",
          "text": [
            "Number of nodes are 1862220\n"
          ],
          "name": "stdout"
        }
      ]
    },
    {
      "cell_type": "markdown",
      "metadata": {
        "id": "iaFU-wbdzDrG"
      },
      "source": [
        "##### 1.1 number of followers for each user\n",
        "<pre> lets do eda on followers, how the trend look like </pre>"
      ]
    },
    {
      "cell_type": "code",
      "metadata": {
        "id": "qrTL8d3a01qq"
      },
      "source": [
        "test =dict(g.in_degree())"
      ],
      "execution_count": 15,
      "outputs": []
    },
    {
      "cell_type": "code",
      "metadata": {
        "id": "-ojaEtylzBna"
      },
      "source": [
        "# dict(g.in_degree) returns number of followes in a dictionary, where key represents each user, values represent number of followers.\n",
        "# So, indgree_list a list, which contains the number of followers for each user, length of indegree_list is equal to the number of nodes in graph\n",
        "indegree_list = list(dict(g.in_degree()).values())"
      ],
      "execution_count": 16,
      "outputs": []
    },
    {
      "cell_type": "code",
      "metadata": {
        "id": "a0wazJue1gLF",
        "outputId": "482c29db-7d0e-4987-d20e-13d83e13dfcd",
        "colab": {
          "base_uri": "https://localhost:8080/",
          "height": 497
        }
      },
      "source": [
        "indegree_list.sort()\n",
        "plt.figure(figsize=(10,8))\n",
        "plt.plot(indegree_list)\n",
        "plt.xlabel('Index no')\n",
        "plt.ylabel('# of followers')\n",
        "plt.show()"
      ],
      "execution_count": 17,
      "outputs": [
        {
          "output_type": "display_data",
          "data": {
            "image/png": "[encoded data removed]",
            "text/plain": [
              "<Figure size 720x576 with 1 Axes>"
            ]
          },
          "metadata": {
            "tags": [],
            "needs_background": "light"
          }
        }
      ]
    },
    {
      "cell_type": "markdown",
      "metadata": {
        "id": "HTDEV30a2R4m"
      },
      "source": [
        "<pre>\n",
        "Observations:\n",
        "1. Most of the people has very less followers.\n",
        "2. very few people has more than 100(around) followers.\n",
        "3. Maximum number of followers for a user is not less 600.\n",
        "4. we can zoom in left part of graph observe carefully, similarly for right graph as well.\n",
        "5. we did see that till the index number 1.50x1e6 not many followers lets zoom in that part first.\n",
        "</pre>"
      ]
    },
    {
      "cell_type": "code",
      "metadata": {
        "id": "Hbh583R62Rn6",
        "outputId": "ee51edcb-09ac-4e8f-b356-dfb0895f3891",
        "colab": {
          "base_uri": "https://localhost:8080/",
          "height": 279
        }
      },
      "source": [
        "plt.plot(indegree_list[:1500000])\n",
        "# plt.ticklabel_format(useOffset=False)\n",
        "plt.ticklabel_format(useOffset=False)\n",
        "plt.xlabel('Index no')\n",
        "plt.ylabel('# of followers')\n",
        "plt.show()"
      ],
      "execution_count": 18,
      "outputs": [
        {
          "output_type": "display_data",
          "data": {
            "image/png": "[encoded data removed]",
            "text/plain": [
              "<Figure size 432x288 with 1 Axes>"
            ]
          },
          "metadata": {
            "tags": [],
            "needs_background": "light"
          }
        }
      ]
    },
    {
      "cell_type": "markdown",
      "metadata": {
        "id": "hoTCsmV84Tfa"
      },
      "source": [
        "<pre>\n",
        "Observations:\n",
        "1. Out of 1.8M, around 1.5M nodes have followers less than 7 people. \n",
        "2. we would see step graph, as there wont be any decimal graphs here.\n",
        "</pre>"
      ]
    },
    {
      "cell_type": "code",
      "metadata": {
        "id": "cmmHkj-H4RI0",
        "outputId": "0f76ff24-27a2-4661-9d50-8e0bdbed1ae7",
        "colab": {
          "base_uri": "https://localhost:8080/",
          "height": 279
        }
      },
      "source": [
        "plt.plot(indegree_list[1500000:])\n",
        "# plt.ticklabel_format(useOffset=False)\n",
        "plt.ticklabel_format(useOffset=False)\n",
        "plt.xlabel('Index no')\n",
        "plt.ylabel('# of followers')\n",
        "plt.show()\n",
        "# we are getting right information with this, lets see percentiles"
      ],
      "execution_count": 19,
      "outputs": [
        {
          "output_type": "display_data",
          "data": {
            "image/png": "[encoded data removed]",
            "text/plain": [
              "<Figure size 432x288 with 1 Axes>"
            ]
          },
          "metadata": {
            "tags": [],
            "needs_background": "light"
          }
        }
      ]
    },
    {
      "cell_type": "code",
      "metadata": {
        "id": "QBqaEiV_2QuO",
        "outputId": "7acec18c-3066-4c73-b6f5-a616abd3f246",
        "colab": {
          "base_uri": "https://localhost:8080/",
          "height": 279
        }
      },
      "source": [
        "plt.boxplot(indegree_list)\n",
        "plt.ylabel(\"number of followers\")\n",
        "plt.xlabel(\"number\")\n",
        "plt.show()\n",
        "# This look like many outliers, and make sense, we we see skewed graph."
      ],
      "execution_count": 20,
      "outputs": [
        {
          "output_type": "display_data",
          "data": {
            "image/png": "[encoded data removed]",
            "text/plain": [
              "<Figure size 432x288 with 1 Axes>"
            ]
          },
          "metadata": {
            "tags": [],
            "needs_background": "light"
          }
        }
      ]
    },
    {
      "cell_type": "code",
      "metadata": {
        "id": "YQN_f_Ko54b0",
        "outputId": "6c916782-930e-4b03-b16a-04035fca2d01",
        "colab": {
          "base_uri": "https://localhost:8080/",
          "height": 202
        }
      },
      "source": [
        "# lets see percentiles\n",
        "for i in range(0,11):\n",
        "  print(90+i,'percentile value is ',np.percentile(indegree_list,90+i))\n",
        "\n",
        "# looks like, 99 percentile is 40 and 100th percentile is 552, lets zoom in 99 till 100"
      ],
      "execution_count": 21,
      "outputs": [
        {
          "output_type": "stream",
          "text": [
            "90 percentile value is  12.0\n",
            "91 percentile value is  13.0\n",
            "92 percentile value is  14.0\n",
            "93 percentile value is  15.0\n",
            "94 percentile value is  17.0\n",
            "95 percentile value is  19.0\n",
            "96 percentile value is  21.0\n",
            "97 percentile value is  24.0\n",
            "98 percentile value is  29.0\n",
            "99 percentile value is  40.0\n",
            "100 percentile value is  552.0\n"
          ],
          "name": "stdout"
        }
      ]
    },
    {
      "cell_type": "code",
      "metadata": {
        "id": "VusugrK76Idd",
        "outputId": "29fb54dd-660e-4f84-9621-3e62760cd94f",
        "colab": {
          "base_uri": "https://localhost:8080/",
          "height": 185
        }
      },
      "source": [
        "for i in range(1,11):\n",
        "  print(99+(i/10),\"percentile value is \",np.percentile(indegree_list,99+(i/10)))\n",
        "\n",
        "# 99.9th percentile is 112 and 100th percentile is 552, which means one node has 552 followers \n",
        "# Most people has very few followers, only 0.1% people has more than 100 followers."
      ],
      "execution_count": 22,
      "outputs": [
        {
          "output_type": "stream",
          "text": [
            "99.1 percentile value is  42.0\n",
            "99.2 percentile value is  44.0\n",
            "99.3 percentile value is  47.0\n",
            "99.4 percentile value is  50.0\n",
            "99.5 percentile value is  55.0\n",
            "99.6 percentile value is  61.0\n",
            "99.7 percentile value is  70.0\n",
            "99.8 percentile value is  84.0\n",
            "99.9 percentile value is  112.0\n",
            "100.0 percentile value is  552.0\n"
          ],
          "name": "stdout"
        }
      ]
    },
    {
      "cell_type": "code",
      "metadata": {
        "id": "6QJrvnkY6itq",
        "outputId": "2548c112-02bd-4d26-ab73-f9752832331d",
        "colab": {
          "base_uri": "https://localhost:8080/",
          "height": 550
        }
      },
      "source": [
        "sns.set_style(\"ticks\")\n",
        "fig, ax = plt.subplots()\n",
        "ax.ticklabel_format(useOffset=False)\n",
        "fig.set_size_inches(11.7,8.27)\n",
        "sns.distplot(indegree_list)\n",
        "sns.despine()\n",
        "plt.show()"
      ],
      "execution_count": 23,
      "outputs": [
        {
          "output_type": "stream",
          "text": [
            "/usr/local/lib/python3.6/dist-packages/seaborn/distributions.py:2551: FutureWarning: `distplot` is a deprecated function and will be removed in a future version. Please adapt your code to use either `displot` (a figure-level function with similar flexibility) or `histplot` (an axes-level function for histograms).\n",
            "  warnings.warn(msg, FutureWarning)\n"
          ],
          "name": "stderr"
        },
        {
          "output_type": "display_data",
          "data": {
            "image/png": "[encoded data removed]",
            "text/plain": [
              "<Figure size 842.4x595.44 with 1 Axes>"
            ]
          },
          "metadata": {
            "tags": []
          }
        }
      ]
    },
    {
      "cell_type": "markdown",
      "metadata": {
        "id": "MDS8NoxM-VBv"
      },
      "source": [
        "##### 1.2 number of people for each user is following\n",
        "<pre> lets do eda on following, how the trend look like </pre>"
      ]
    },
    {
      "cell_type": "code",
      "metadata": {
        "id": "1GHnu8G7-TNF",
        "outputId": "8caba307-a0d4-484e-b656-d28775498a8a",
        "colab": {
          "base_uri": "https://localhost:8080/",
          "height": 497
        }
      },
      "source": [
        "outdegree_dist = list(dict(g.out_degree()).values())\n",
        "outdegree_dist.sort()\n",
        "plt.figure(figsize=(10,8))\n",
        "plt.plot(outdegree_dist)\n",
        "plt.ticklabel_format(useOffset=False)\n",
        "plt.xlabel('Index no')\n",
        "plt.ylabel('# of people following')\n",
        "plt.show()\n",
        "# Same trend is follwing with with out degree."
      ],
      "execution_count": 24,
      "outputs": [
        {
          "output_type": "display_data",
          "data": {
            "image/png": "[encoded data removed]",
            "text/plain": [
              "<Figure size 720x576 with 1 Axes>"
            ]
          },
          "metadata": {
            "tags": []
          }
        }
      ]
    },
    {
      "cell_type": "code",
      "metadata": {
        "id": "75oL9ZwS_FZc",
        "outputId": "0334438d-26e6-4d71-aea9-012de1ba05c0",
        "colab": {
          "base_uri": "https://localhost:8080/",
          "height": 279
        }
      },
      "source": [
        "plt.plot(outdegree_dist[:1500000])\n",
        "# plt.ticklabel_format(useOffset=False)\n",
        "plt.ticklabel_format(useOffset=False)\n",
        "plt.xlabel('Index no')\n",
        "plt.ylabel('# of followers')\n",
        "plt.show()"
      ],
      "execution_count": 25,
      "outputs": [
        {
          "output_type": "display_data",
          "data": {
            "image/png": "[encoded data removed]",
            "text/plain": [
              "<Figure size 432x288 with 1 Axes>"
            ]
          },
          "metadata": {
            "tags": []
          }
        }
      ]
    },
    {
      "cell_type": "code",
      "metadata": {
        "id": "LWMrx8Sd_MEb",
        "outputId": "c3861f95-b0a1-469d-bc3b-f0b90846b32c",
        "colab": {
          "base_uri": "https://localhost:8080/",
          "height": 202
        }
      },
      "source": [
        "# lets see percentiles\n",
        "for i in range(0,11):\n",
        "  print(90+i,'percentile value is ',np.percentile(outdegree_dist,90+i))\n",
        "\n",
        "# looks like, 99 percentile is 40 and 100th percentile is 1566, few users are following more than 40 people"
      ],
      "execution_count": 26,
      "outputs": [
        {
          "output_type": "stream",
          "text": [
            "90 percentile value is  12.0\n",
            "91 percentile value is  13.0\n",
            "92 percentile value is  14.0\n",
            "93 percentile value is  15.0\n",
            "94 percentile value is  17.0\n",
            "95 percentile value is  19.0\n",
            "96 percentile value is  21.0\n",
            "97 percentile value is  24.0\n",
            "98 percentile value is  29.0\n",
            "99 percentile value is  40.0\n",
            "100 percentile value is  1566.0\n"
          ],
          "name": "stdout"
        }
      ]
    },
    {
      "cell_type": "code",
      "metadata": {
        "id": "wP-Mhruk_OI0",
        "outputId": "0416942b-2f2c-4705-9981-4640ed8e679a",
        "colab": {
          "base_uri": "https://localhost:8080/",
          "height": 185
        }
      },
      "source": [
        "# lets see percentiles\n",
        "for i in range(1,11):\n",
        "  print(99+(i/10),'percentile value is ',np.percentile(outdegree_dist,99+(i/10)))\n",
        "\n",
        "# looks like, 99.9 percentile is 123 and 100th percentile is 1566, only few users are following other people"
      ],
      "execution_count": 27,
      "outputs": [
        {
          "output_type": "stream",
          "text": [
            "99.1 percentile value is  42.0\n",
            "99.2 percentile value is  45.0\n",
            "99.3 percentile value is  48.0\n",
            "99.4 percentile value is  52.0\n",
            "99.5 percentile value is  56.0\n",
            "99.6 percentile value is  63.0\n",
            "99.7 percentile value is  73.0\n",
            "99.8 percentile value is  90.0\n",
            "99.9 percentile value is  123.0\n",
            "100.0 percentile value is  1566.0\n"
          ],
          "name": "stdout"
        }
      ]
    },
    {
      "cell_type": "code",
      "metadata": {
        "id": "IE-PG0___slR",
        "outputId": "77701147-cbcd-4c5a-f111-875ab8ef7f42",
        "colab": {
          "base_uri": "https://localhost:8080/",
          "height": 34
        }
      },
      "source": [
        "print(\" Number of people who are not following any one are \",sum(np.array(outdegree_dist)==0),\"which is\",(sum(np.array(outdegree_dist)==0)*100)/len(outdegree_dist),'%')"
      ],
      "execution_count": 28,
      "outputs": [
        {
          "output_type": "stream",
          "text": [
            " Number of people who are not following any one are  274512 which is 14.741115442858524 %\n"
          ],
          "name": "stdout"
        }
      ]
    },
    {
      "cell_type": "code",
      "metadata": {
        "id": "maMMd-C3AMpd",
        "outputId": "e2bd98f8-4ed6-4c60-961f-456f8b2af83c",
        "colab": {
          "base_uri": "https://localhost:8080/",
          "height": 34
        }
      },
      "source": [
        "print(\" Number of people having zero followers are\",sum(np.array(indegree_list)==0), \"which is of\",(sum(np.array(indegree_list)==0)*100)/len(outdegree_dist),'%' )"
      ],
      "execution_count": 29,
      "outputs": [
        {
          "output_type": "stream",
          "text": [
            " Number of people having zero followers are 188043 which is of 10.097786512871734 %\n"
          ],
          "name": "stdout"
        }
      ]
    },
    {
      "cell_type": "markdown",
      "metadata": {
        "id": "uf2D0tNdBTsi"
      },
      "source": [
        "##### 1.2 Indegree + outdegree\n",
        "<pre> lets do eda on following, how the trend look like </pre>"
      ]
    },
    {
      "cell_type": "code",
      "metadata": {
        "id": "4EocMNR3BSCS",
        "outputId": "1553fe46-9e0b-40ab-828f-d62b63b26b6f",
        "colab": {
          "base_uri": "https://localhost:8080/",
          "height": 550
        }
      },
      "source": [
        "dict_in = dict(g.in_degree())\n",
        "dict_out = dict(g.out_degree())\n",
        "d= Counter(dict_in) + Counter(dict_out)\n",
        "in_out_degree = np.array(list(d.values()))\n",
        "\n",
        "\n",
        "in_out_degree_sort = sorted(in_out_degree)\n",
        "plt.figure(figsize=(10,9))\n",
        "plt.plot(in_out_degree_sort)\n",
        "plt.show()\n",
        "# Same trend appear here too"
      ],
      "execution_count": 30,
      "outputs": [
        {
          "output_type": "display_data",
          "data": {
            "image/png": "[encoded data removed]",
            "text/plain": [
              "<Figure size 720x648 with 1 Axes>"
            ]
          },
          "metadata": {
            "tags": []
          }
        }
      ]
    },
    {
      "cell_type": "code",
      "metadata": {
        "id": "7EgdxiRzBxzT",
        "outputId": "046269c3-b878-416f-871e-80a739033cf2",
        "colab": {
          "base_uri": "https://localhost:8080/",
          "height": 279
        }
      },
      "source": [
        "plt.plot(in_out_degree_sort[:1500000])\n",
        "# plt.ticklabel_format(useOffset=False)\n",
        "plt.ticklabel_format(useOffset=False)\n",
        "plt.xlabel('Index no')\n",
        "plt.ylabel('# of followers')\n",
        "plt.show()"
      ],
      "execution_count": 31,
      "outputs": [
        {
          "output_type": "display_data",
          "data": {
            "image/png": "[encoded data removed]",
            "text/plain": [
              "<Figure size 432x288 with 1 Axes>"
            ]
          },
          "metadata": {
            "tags": []
          }
        }
      ]
    },
    {
      "cell_type": "code",
      "metadata": {
        "id": "skB-6o2DCiAa",
        "outputId": "05e47084-cf1f-44a0-f58e-c0e27fee5e6e",
        "colab": {
          "base_uri": "https://localhost:8080/",
          "height": 202
        }
      },
      "source": [
        "# lets see percentiles\n",
        "for i in range(0,11):\n",
        "  print(90+i,'percentile value is ',np.percentile(in_out_degree_sort,90+i))\n",
        "\n",
        "# looks like, 99 percentile is 40 and 100th percentile is 1566, few users are following more than 40 people"
      ],
      "execution_count": 32,
      "outputs": [
        {
          "output_type": "stream",
          "text": [
            "90 percentile value is  24.0\n",
            "91 percentile value is  26.0\n",
            "92 percentile value is  28.0\n",
            "93 percentile value is  31.0\n",
            "94 percentile value is  33.0\n",
            "95 percentile value is  37.0\n",
            "96 percentile value is  41.0\n",
            "97 percentile value is  48.0\n",
            "98 percentile value is  58.0\n",
            "99 percentile value is  79.0\n",
            "100 percentile value is  1579.0\n"
          ],
          "name": "stdout"
        }
      ]
    },
    {
      "cell_type": "code",
      "metadata": {
        "id": "PTEi7v3vCoK4",
        "outputId": "89f7031d-0c39-4394-c6fe-15c35373b248",
        "colab": {
          "base_uri": "https://localhost:8080/",
          "height": 185
        }
      },
      "source": [
        "# lets see percentiles\n",
        "for i in range(1,11):\n",
        "  print(99+(i/10),'percentile value is ',np.percentile(in_out_degree_sort,99+(i/10)))\n",
        "\n",
        "# looks like, 99.9 percentile is 123 and 100th percentile is 1566, only few users are following other people"
      ],
      "execution_count": 33,
      "outputs": [
        {
          "output_type": "stream",
          "text": [
            "99.1 percentile value is  83.0\n",
            "99.2 percentile value is  87.0\n",
            "99.3 percentile value is  93.0\n",
            "99.4 percentile value is  99.0\n",
            "99.5 percentile value is  108.0\n",
            "99.6 percentile value is  120.0\n",
            "99.7 percentile value is  138.0\n",
            "99.8 percentile value is  168.0\n",
            "99.9 percentile value is  221.0\n",
            "100.0 percentile value is  1579.0\n"
          ],
          "name": "stdout"
        }
      ]
    },
    {
      "cell_type": "code",
      "metadata": {
        "id": "LmBPtni2DANG",
        "outputId": "ef1644b5-dced-42cc-95f7-68c86cf2b007",
        "colab": {
          "base_uri": "https://localhost:8080/",
          "height": 50
        }
      },
      "source": [
        "print('Min of no of followers + following is',in_out_degree.min())\n",
        "print(np.sum(in_out_degree==in_out_degree.min()),' persons having minimum no of followers + following')"
      ],
      "execution_count": 34,
      "outputs": [
        {
          "output_type": "stream",
          "text": [
            "Min of no of followers + following is 1\n",
            "334291  persons having minimum no of followers + following\n"
          ],
          "name": "stdout"
        }
      ]
    },
    {
      "cell_type": "code",
      "metadata": {
        "id": "CbWn-fOjDGpd",
        "outputId": "1cfab2be-091c-4e36-8a00-3aae565a8895",
        "colab": {
          "base_uri": "https://localhost:8080/",
          "height": 50
        }
      },
      "source": [
        "print('Max of no of followers + following is',in_out_degree.max())\n",
        "print(np.sum(in_out_degree==in_out_degree.max()),' persons having maximum no of followers + following')"
      ],
      "execution_count": 35,
      "outputs": [
        {
          "output_type": "stream",
          "text": [
            "Max of no of followers + following is 1579\n",
            "1  persons having maximum no of followers + following\n"
          ],
          "name": "stdout"
        }
      ]
    },
    {
      "cell_type": "code",
      "metadata": {
        "id": "CsA7M62XDJVL",
        "outputId": "c2d305d9-01af-4155-9a27-ee04af3be05b",
        "colab": {
          "base_uri": "https://localhost:8080/",
          "height": 34
        }
      },
      "source": [
        "print('No of persons having followers + following less than 10 are',np.sum(in_out_degree<10))"
      ],
      "execution_count": 36,
      "outputs": [
        {
          "output_type": "stream",
          "text": [
            "No of persons having followers + following less than 10 are 1320326\n"
          ],
          "name": "stdout"
        }
      ]
    },
    {
      "cell_type": "code",
      "metadata": {
        "id": "snHigFpEDLGG",
        "outputId": "50fcc76a-7093-4147-f135-3f3864811df3",
        "colab": {
          "base_uri": "https://localhost:8080/",
          "height": 50
        }
      },
      "source": [
        "print('No of weakly connected components',len(list(nx.weakly_connected_components(g))))\n",
        "count=0\n",
        "for i in list(nx.weakly_connected_components(g)):\n",
        "    if len(i)==2:\n",
        "        count+=1\n",
        "print('weakly connected components wit 2 nodes',count)"
      ],
      "execution_count": 37,
      "outputs": [
        {
          "output_type": "stream",
          "text": [
            "No of weakly connected components 45558\n",
            "weakly connected components wit 2 nodes 32195\n"
          ],
          "name": "stdout"
        }
      ]
    },
    {
      "cell_type": "markdown",
      "metadata": {
        "id": "AuONQFKFjxju"
      },
      "source": [
        "###### Posing this problem as binary classification task.\n",
        "<pre>\n",
        "1. we have main dataset where we have all nodes, where edge is available, lets call them as 1.\n",
        "2. we can derive nodes where in no edge is available, we can call them as 0.\n",
        "3. so, it becomes a binary classification task.\n",
        "4. from total graph, we have 1.86M nodes, and 9.43M edges. \n",
        "5. If we consider there are n nodes, there would have at max n-1 edges from that node. Then total edges becomes nx(n-1) edges.\n",
        "6. As we have 1.86M nodes, then total edges could be 1.86Mx(1.86M-1) edges, which is a huge number of edges. All these edges we can call them as 0, by excepting already available edges.\n",
        "7. As binary classification works better if we have balanced datasets, So, lets sample only 9.43M 0's from 6th point. So, in final dataset, we will be having 9.43M 1's and 9.43M 0's.\n",
        "</pre>"
      ]
    },
    {
      "cell_type": "code",
      "metadata": {
        "id": "Pnt22PstxSnt",
        "outputId": "e013a97f-d055-4d56-c074-e8955aebffac",
        "colab": {
          "base_uri": "https://localhost:8080/",
          "height": 67
        }
      },
      "source": [
        "!ls after_eda/"
      ],
      "execution_count": 38,
      "outputs": [
        {
          "output_type": "stream",
          "text": [
            "missing_edges_final.p\ttest_pos_after_eda.csv\t train_pos_after_eda.csv\n",
            "test_after_eda.csv\ttrain_after_eda.csv\t train_woheader.csv\n",
            "test_neg_after_eda.csv\ttrain_neg_after_eda.csv\n"
          ],
          "name": "stdout"
        }
      ]
    },
    {
      "cell_type": "code",
      "metadata": {
        "id": "l8Ka5vz1jwmd",
        "outputId": "e92bd4a7-e494-4b3f-a0f4-da7f37b42438",
        "colab": {
          "base_uri": "https://localhost:8080/",
          "height": 50
        }
      },
      "source": [
        "%%time\n",
        "r = csv.reader(open('after_eda/train_woheader.csv'))\n",
        "edges = dict()\n",
        "for edge in r:\n",
        "  edges[(edge[0],edge[1])]=1\n",
        "  # break"
      ],
      "execution_count": 39,
      "outputs": [
        {
          "output_type": "stream",
          "text": [
            "CPU times: user 7.12 s, sys: 910 ms, total: 8.03 s\n",
            "Wall time: 8.04 s\n"
          ],
          "name": "stdout"
        }
      ]
    },
    {
      "cell_type": "code",
      "metadata": {
        "id": "VAQrnqHNei8t"
      },
      "source": [
        "# %%time\n",
        "# missing_edges = set()\n",
        "# while(len(missing_edges)<=9437519):\n",
        "#   a = random.randint(1,1862220)\n",
        "#   b = random.randint(1,1862220)\n",
        "#   if edges.get((a,b),-1)==-1 and a!=b:\n",
        "#     try:\n",
        "#       if nx.shortest_path_length(g,source=a,target=b) >2:\n",
        "#         missing_edges.add((a,b))\n",
        "#       else:\n",
        "#         continue\n",
        "#     except:\n",
        "#       missing_edges.add((a,b))\n",
        "#   else:\n",
        "#     missing_edges.add((a,b))"
      ],
      "execution_count": 40,
      "outputs": []
    },
    {
      "cell_type": "code",
      "metadata": {
        "id": "Mk9o9GJcOHhV",
        "outputId": "d0d0556c-d6f9-43e2-ebef-0a8d956818ab",
        "colab": {
          "base_uri": "https://localhost:8080/",
          "height": 34
        }
      },
      "source": [
        "!ls"
      ],
      "execution_count": 41,
      "outputs": [
        {
          "output_type": "stream",
          "text": [
            "after_eda  fea_sample  test_y.csv  train.csv  train_y.csv\n"
          ],
          "name": "stdout"
        }
      ]
    },
    {
      "cell_type": "code",
      "metadata": {
        "id": "g9_Kkg_t0xX4"
      },
      "source": [
        "missing_edges = pickle.load(open('after_eda/missing_edges_final.p','rb'))"
      ],
      "execution_count": 42,
      "outputs": []
    },
    {
      "cell_type": "code",
      "metadata": {
        "id": "3Orlp1RyROzJ",
        "outputId": "deb27613-de79-47db-b045-d3b131bf63a2",
        "colab": {
          "base_uri": "https://localhost:8080/",
          "height": 34
        }
      },
      "source": [
        "!ls"
      ],
      "execution_count": 43,
      "outputs": [
        {
          "output_type": "stream",
          "text": [
            "after_eda  fea_sample  test_y.csv  train.csv  train_y.csv\n"
          ],
          "name": "stdout"
        }
      ]
    },
    {
      "cell_type": "code",
      "metadata": {
        "id": "aS6NE80PReOe",
        "outputId": "258331fa-f117-4e91-f0c0-07dbbe2ca7b7",
        "colab": {
          "base_uri": "https://localhost:8080/",
          "height": 34
        }
      },
      "source": [
        "type(missing_edges)"
      ],
      "execution_count": 44,
      "outputs": [
        {
          "output_type": "execute_result",
          "data": {
            "text/plain": [
              "set"
            ]
          },
          "metadata": {
            "tags": []
          },
          "execution_count": 44
        }
      ]
    },
    {
      "cell_type": "code",
      "metadata": {
        "id": "qN5wZVh6RvrT"
      },
      "source": [
        "# del missing_edges\n",
        "del g"
      ],
      "execution_count": 55,
      "outputs": []
    },
    {
      "cell_type": "code",
      "metadata": {
        "id": "VKqI3dwjmbmC"
      },
      "source": [
        "df_pos = pd.read_csv('train.csv')\n",
        "df_neg = pd.DataFrame(list(missing_edges),columns=['source_edge','target_edge'])"
      ],
      "execution_count": 45,
      "outputs": []
    },
    {
      "cell_type": "code",
      "metadata": {
        "id": "S6pIqL0SRm1w",
        "outputId": "6889380e-bd7b-43c5-c4b7-4fdbea5c180b",
        "colab": {
          "base_uri": "https://localhost:8080/",
          "height": 50
        }
      },
      "source": [
        "print(\"Number of Nodes with edges in positive\",df_pos.shape[0])\n",
        "print(\"Number of nodes without edges in negative\",df_neg.shape[0])"
      ],
      "execution_count": 46,
      "outputs": [
        {
          "output_type": "stream",
          "text": [
            "Number of Nodes with edges in positive 9437519\n",
            "Number of nodes without edges in negative 9437519\n"
          ],
          "name": "stdout"
        }
      ]
    },
    {
      "cell_type": "code",
      "metadata": {
        "id": "MLSw6kN5Sg-A"
      },
      "source": [
        "x_train_pos,x_test_pos,y_train_pos,y_test_pos = train_test_split(df_pos,np.ones(9437519),test_size=0.20,random_state=9)\n",
        "x_train_neg,x_test_neg,y_train_neg,y_test_neg = train_test_split(df_neg,np.zeros(9437519),test_size=0.20,random_state=9)"
      ],
      "execution_count": 47,
      "outputs": []
    },
    {
      "cell_type": "code",
      "metadata": {
        "id": "rXN2pxFeTDsY"
      },
      "source": [
        "del traincsv"
      ],
      "execution_count": 48,
      "outputs": []
    },
    {
      "cell_type": "code",
      "metadata": {
        "id": "M_dlaBygODXE",
        "outputId": "fd8051b4-fb89-4adc-b07b-fd2e6f4be18b",
        "colab": {
          "base_uri": "https://localhost:8080/",
          "height": 195
        }
      },
      "source": [
        "x_test_pos.head()"
      ],
      "execution_count": 59,
      "outputs": [
        {
          "output_type": "execute_result",
          "data": {
            "text/html": [
              "<div>\n",
              "<style scoped>\n",
              "    .dataframe tbody tr th:only-of-type {\n",
              "        vertical-align: middle;\n",
              "    }\n",
              "\n",
              "    .dataframe tbody tr th {\n",
              "        vertical-align: top;\n",
              "    }\n",
              "\n",
              "    .dataframe thead th {\n",
              "        text-align: right;\n",
              "    }\n",
              "</style>\n",
              "<table border=\"1\" class=\"dataframe\">\n",
              "  <thead>\n",
              "    <tr style=\"text-align: right;\">\n",
              "      <th></th>\n",
              "      <th>source_node</th>\n",
              "      <th>destination_node</th>\n",
              "    </tr>\n",
              "  </thead>\n",
              "  <tbody>\n",
              "    <tr>\n",
              "      <th>4303730</th>\n",
              "      <td>848424</td>\n",
              "      <td>784690</td>\n",
              "    </tr>\n",
              "    <tr>\n",
              "      <th>6328118</th>\n",
              "      <td>1248963</td>\n",
              "      <td>444518</td>\n",
              "    </tr>\n",
              "    <tr>\n",
              "      <th>1347397</th>\n",
              "      <td>264224</td>\n",
              "      <td>132395</td>\n",
              "    </tr>\n",
              "    <tr>\n",
              "      <th>2788658</th>\n",
              "      <td>549680</td>\n",
              "      <td>326829</td>\n",
              "    </tr>\n",
              "    <tr>\n",
              "      <th>4439018</th>\n",
              "      <td>875380</td>\n",
              "      <td>1394902</td>\n",
              "    </tr>\n",
              "  </tbody>\n",
              "</table>\n",
              "</div>"
            ],
            "text/plain": [
              "         source_node  destination_node\n",
              "4303730       848424            784690\n",
              "6328118      1248963            444518\n",
              "1347397       264224            132395\n",
              "2788658       549680            326829\n",
              "4439018       875380           1394902"
            ]
          },
          "metadata": {
            "tags": []
          },
          "execution_count": 59
        }
      ]
    },
    {
      "cell_type": "code",
      "metadata": {
        "id": "JnbiIt5sM3H3"
      },
      "source": [
        "train_pos_graph=nx.from_pandas_edgelist(x_train_pos,source='source_node',target='destination_node',create_using=nx.DiGraph)\n",
        "test_pos_graph = nx.from_pandas_edgelist(x_test_pos,source='source_node',target='destination_node',create_using=nx.DiGraph)"
      ],
      "execution_count": 63,
      "outputs": []
    },
    {
      "cell_type": "code",
      "metadata": {
        "id": "GtfXtE3BWHQV",
        "outputId": "3529317f-2612-4663-cda6-0e89cb6948fe",
        "colab": {
          "base_uri": "https://localhost:8080/",
          "height": 235
        }
      },
      "source": [
        "print(nx.info(train_pos_graph))\n",
        "print('='*60)\n",
        "print(nx.info(test_pos_graph))"
      ],
      "execution_count": 94,
      "outputs": [
        {
          "output_type": "stream",
          "text": [
            "Name: \n",
            "Type: DiGraph\n",
            "Number of nodes: 1780722\n",
            "Number of edges: 7550015\n",
            "Average in degree:   4.2399\n",
            "Average out degree:   4.2399\n",
            "============================================================\n",
            "Name: \n",
            "Type: DiGraph\n",
            "Number of nodes: 1144623\n",
            "Number of edges: 1887504\n",
            "Average in degree:   1.6490\n",
            "Average out degree:   1.6490\n"
          ],
          "name": "stdout"
        }
      ]
    },
    {
      "cell_type": "code",
      "metadata": {
        "id": "9W8MicITSHfH",
        "outputId": "0a681cc3-6820-4dd5-e919-07786bcbdcb7",
        "colab": {
          "base_uri": "https://localhost:8080/",
          "height": 34
        }
      },
      "source": [
        "# del train_pos_graph,test_pos_graph\n",
        "gc.collect()"
      ],
      "execution_count": 62,
      "outputs": [
        {
          "output_type": "execute_result",
          "data": {
            "text/plain": [
              "299"
            ]
          },
          "metadata": {
            "tags": []
          },
          "execution_count": 62
        }
      ]
    },
    {
      "cell_type": "code",
      "metadata": {
        "id": "FWyjm0awUWG1",
        "outputId": "bddee360-1ada-4755-b947-fa62e944ece4",
        "colab": {
          "base_uri": "https://localhost:8080/",
          "height": 34
        }
      },
      "source": [
        "# del edges\n",
        "# del d\n",
        "# del indegree_list,outdegree_dist,in_out_degree_sort,in_out_degree,dict_in,dict_out\n",
        "# del test\n",
        "gc.collect()"
      ],
      "execution_count": 93,
      "outputs": [
        {
          "output_type": "execute_result",
          "data": {
            "text/plain": [
              "1033"
            ]
          },
          "metadata": {
            "tags": []
          },
          "execution_count": 93
        }
      ]
    },
    {
      "cell_type": "code",
      "metadata": {
        "id": "GK07NkIuTUrD",
        "outputId": "813ef866-631b-40e1-bdf0-8bac9cbe6fde",
        "colab": {
          "base_uri": "https://localhost:8080/",
          "height": 706
        }
      },
      "source": [
        "local_vars,size_dict = list(globals().items()),dict()\n",
        "for var, obj in local_vars:\n",
        "  if var[0]!='_':\n",
        "    size_dict[var]=sys.getsizeof(obj)/(1024*1024)\n",
        "sorted(size_dict.items(),key=lambda x:x[1],reverse=True)"
      ],
      "execution_count": 92,
      "outputs": [
        {
          "output_type": "execute_result",
          "data": {
            "text/plain": [
              "[('x_train_pos', 172.80615234375),\n",
              " ('x_train_neg', 172.80615234375),\n",
              " ('df_pos', 144.00525665283203),\n",
              " ('df_neg', 144.00525665283203),\n",
              " ('y_train_pos', 57.602134704589844),\n",
              " ('y_train_neg', 57.602134704589844),\n",
              " ('x_test_pos', 43.201560974121094),\n",
              " ('x_test_neg', 43.201560974121094),\n",
              " ('y_test_pos', 14.400604248046875),\n",
              " ('y_test_neg', 14.400604248046875),\n",
              " ('local_vars', 0.001495361328125),\n",
              " ('size_dict', 0.001129150390625),\n",
              " ('Counter', 0.001007080078125),\n",
              " ('In', 0.0008697509765625),\n",
              " ('Out', 0.00061798095703125),\n",
              " ('obj', 0.00024318695068359375),\n",
              " ('s', 0.0002288818359375),\n",
              " ('i', 0.000213623046875),\n",
              " ('train_test_split', 0.00012969970703125),\n",
              " ('r', 0.0001068115234375),\n",
              " ('edge', 9.1552734375e-05),\n",
              " ('pd', 7.62939453125e-05),\n",
              " ('np', 7.62939453125e-05),\n",
              " ('nx', 7.62939453125e-05),\n",
              " ('plt', 7.62939453125e-05),\n",
              " ('sns', 7.62939453125e-05),\n",
              " ('csv', 7.62939453125e-05),\n",
              " ('random', 7.62939453125e-05),\n",
              " ('pickle', 7.62939453125e-05),\n",
              " ('drive', 7.62939453125e-05),\n",
              " ('gc', 7.62939453125e-05),\n",
              " ('sys', 7.62939453125e-05),\n",
              " ('get_ipython', 6.103515625e-05),\n",
              " ('exit', 5.340576171875e-05),\n",
              " ('quit', 5.340576171875e-05),\n",
              " ('fig', 5.340576171875e-05),\n",
              " ('ax', 5.340576171875e-05),\n",
              " ('train_pos_graph', 5.340576171875e-05),\n",
              " ('test_pos_graph', 5.340576171875e-05),\n",
              " ('var', 5.054473876953125e-05),\n",
              " ('count', 2.6702880859375e-05)]"
            ]
          },
          "metadata": {
            "tags": []
          },
          "execution_count": 92
        }
      ]
    }
  ]
}