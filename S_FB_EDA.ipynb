{
  "nbformat": 4,
  "nbformat_minor": 0,
  "metadata": {
    "kernelspec": {
      "display_name": "Python 3",
      "language": "python",
      "name": "python3"
    },
    "language_info": {
      "codemirror_mode": {
        "name": "ipython",
        "version": 3
      },
      "file_extension": ".py",
      "mimetype": "text/x-python",
      "name": "python",
      "nbconvert_exporter": "python",
      "pygments_lexer": "ipython3",
      "version": "3.6.5"
    },
    "colab": {
      "name": "FB_EDA.ipynb",
      "provenance": [],
      "include_colab_link": true
    }
  },
  "cells": [
    {
      "cell_type": "markdown",
      "metadata": {
        "id": "view-in-github",
        "colab_type": "text"
      },
      "source": [
        "<a href=\"https://colab.research.google.com/github/subro12/FacebookFriendRecommendation/blob/main/S_FB_EDA.ipynb\" target=\"_parent\"><img src=\"https://colab.research.google.com/assets/colab-badge.svg\" alt=\"Open In Colab\"/></a>"
      ]
    },
    {
      "cell_type": "markdown",
      "metadata": {
        "id": "_ngfVeOrX7If"
      },
      "source": [
        "<p style=\"font-size:32px;text-align:center\"> <b>Social network Graph Link Prediction - Facebook Challenge</b> </p>"
      ]
    },
    {
      "cell_type": "markdown",
      "metadata": {
        "id": "BIdTcywoX7Ih"
      },
      "source": [
        "### Problem statement: \n",
        "Given a directed social graph, have to predict missing links to recommend users (Link Prediction in graph)"
      ]
    },
    {
      "cell_type": "markdown",
      "metadata": {
        "id": "EKXSOWj3X7Ii"
      },
      "source": [
        "### Data Overview\n",
        "Taken data from facebook's recruting challenge on kaggle https://www.kaggle.com/c/FacebookRecruiting  \n",
        "data contains two columns source and destination eac edge in graph \n",
        "    - Data columns (total 2 columns):  \n",
        "    - source_node         int64  \n",
        "    - destination_node    int64  "
      ]
    },
    {
      "cell_type": "markdown",
      "metadata": {
        "id": "frIBf5F2X7Ij"
      },
      "source": [
        "### Mapping the problem into supervised learning problem:\n",
        "- Generated training samples of good and bad links from given directed graph and for each link got some features like no of followers, is he followed back, page rank, katz score, adar index, some svd fetures of adj matrix, some weight features etc. and trained ml model based on these features to predict link. \n",
        "- Some reference papers and videos :  \n",
        "    - https://www.cs.cornell.edu/home/kleinber/link-pred.pdf\n",
        "    - https://www3.nd.edu/~dial/publications/lichtenwalter2010new.pdf\n",
        "    - https://kaggle2.blob.core.windows.net/forum-message-attachments/2594/supervised_link_prediction.pdf\n",
        "    - https://www.youtube.com/watch?v=2M77Hgy17cg"
      ]
    },
    {
      "cell_type": "markdown",
      "metadata": {
        "id": "zej3Dqi7X7Ik"
      },
      "source": [
        "### Business objectives and constraints:  \n",
        "- No low-latency requirement.\n",
        "- Probability of prediction is useful to recommend ighest probability links"
      ]
    },
    {
      "cell_type": "markdown",
      "metadata": {
        "id": "fSW6zbsHX7Il"
      },
      "source": [
        "### Performance metric for supervised learning:  \n",
        "- Both precision and recall is important so F1 score is good choice\n",
        "- Confusion matrix"
      ]
    },
    {
      "cell_type": "code",
      "metadata": {
        "id": "DLt68-c3sm5b"
      },
      "source": [
        "import pandas as pd\n",
        "import numpy as np"
      ],
      "execution_count": 12,
      "outputs": []
    }
  ]
}