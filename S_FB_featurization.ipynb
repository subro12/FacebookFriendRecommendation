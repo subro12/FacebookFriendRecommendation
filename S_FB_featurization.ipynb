{
  "nbformat": 4,
  "nbformat_minor": 0,
  "metadata": {
    "colab": {
      "name": "FB_featurization.ipynb",
      "provenance": [],
      "collapsed_sections": [
        "DaIHhWh6VFGv",
        "GkkfYYZ6VFGy",
        "AgsorCl7VFG8",
        "baE_95bzVFHF",
        "pBUudhFAVFHY",
        "29Vrq2EXVFHi",
        "SRZqGFgYVFHx"
      ],
      "include_colab_link": true
    },
    "kernelspec": {
      "display_name": "Python 3",
      "language": "python",
      "name": "python3"
    },
    "accelerator": "GPU"
  },
  "cells": [
    {
      "cell_type": "markdown",
      "metadata": {
        "id": "view-in-github",
        "colab_type": "text"
      },
      "source": [
        "<a href=\"https://colab.research.google.com/github/subro12/FacebookFriendRecommendation/blob/main/S_FB_featurization.ipynb\" target=\"_parent\"><img src=\"https://colab.research.google.com/assets/colab-badge.svg\" alt=\"Open In Colab\"/></a>"
      ]
    },
    {
      "cell_type": "code",
      "metadata": {
        "id": "XGY9VjW5Ctrv"
      },
      "source": [
        "import pandas as pd\n",
        "import numpy as np\n",
        "import networkx as nx\n",
        "import matplotlib.pylab as plt\n",
        "import random"
      ],
      "execution_count": 15,
      "outputs": []
    },
    {
      "cell_type": "code",
      "metadata": {
        "id": "lZnpmPVbCw9U",
        "outputId": "e1003017-937e-4d03-d241-fba9ddba0488",
        "colab": {
          "base_uri": "https://localhost:8080/",
          "height": 34
        }
      },
      "source": [
        "from google.colab import drive\n",
        "drive.mount('/content/drive')"
      ],
      "execution_count": 2,
      "outputs": [
        {
          "output_type": "stream",
          "text": [
            "Mounted at /content/drive\n"
          ],
          "name": "stdout"
        }
      ]
    },
    {
      "cell_type": "code",
      "metadata": {
        "id": "ln5m8f13C_hh",
        "outputId": "e24c700c-36dc-4bcd-c195-24ef6087ea5f",
        "colab": {
          "base_uri": "https://localhost:8080/",
          "height": 34
        }
      },
      "source": [
        "%cd drive/My\\ Drive/Case_studies/Facebook/Facebook/"
      ],
      "execution_count": 3,
      "outputs": [
        {
          "output_type": "stream",
          "text": [
            "/content/drive/.shortcut-targets-by-id/1c50Q5RcmdpMYj1jCPc3ShOE2y4G8G2ez/Facebook\n"
          ],
          "name": "stdout"
        }
      ]
    },
    {
      "cell_type": "code",
      "metadata": {
        "id": "OcJWLOKHDD3X",
        "outputId": "f588b09a-4a4b-4c81-84de-a48d444af62c",
        "colab": {
          "base_uri": "https://localhost:8080/",
          "height": 34
        }
      },
      "source": [
        "%ls"
      ],
      "execution_count": 4,
      "outputs": [
        {
          "output_type": "stream",
          "text": [
            "\u001b[0m\u001b[01;34mdata\u001b[0m/  FB_EDA.ipynb  FB_featurization.ipynb  FB_Models.ipynb\n"
          ],
          "name": "stdout"
        }
      ]
    },
    {
      "cell_type": "code",
      "metadata": {
        "id": "0RDKnObhDVc5"
      },
      "source": [
        "train_graph = nx.read_edgelist('data/after_eda/train_pos_after_eda.csv',delimiter=',',create_using=nx.DiGraph,nodetype=int)"
      ],
      "execution_count": 5,
      "outputs": []
    },
    {
      "cell_type": "code",
      "metadata": {
        "id": "SfNWyWFBbpFi",
        "outputId": "be84952f-6906-4915-e5e4-32d32292c2a4",
        "colab": {
          "base_uri": "https://localhost:8080/",
          "height": 118
        }
      },
      "source": [
        "print(nx.info(train_graph))"
      ],
      "execution_count": 6,
      "outputs": [
        {
          "output_type": "stream",
          "text": [
            "Name: \n",
            "Type: DiGraph\n",
            "Number of nodes: 1780722\n",
            "Number of edges: 7550015\n",
            "Average in degree:   4.2399\n",
            "Average out degree:   4.2399\n"
          ],
          "name": "stdout"
        }
      ]
    },
    {
      "cell_type": "markdown",
      "metadata": {
        "id": "ZeHs45v3cT4_"
      },
      "source": [
        "##### Similarity measurements - Feature Engineering"
      ]
    },
    {
      "cell_type": "markdown",
      "metadata": {
        "id": "2PBjZSqxcTwV"
      },
      "source": [
        "###### Jaccard distance"
      ]
    },
    {
      "cell_type": "code",
      "metadata": {
        "id": "GzDRqv62mIi2"
      },
      "source": [
        "def jaccard_for_followees(a,b):\n",
        "  jaccard_index = 0\n",
        "  try:\n",
        "    if len(set(train_graph.successors(a)))==0 or len(set(train_graph.successors(b)))==0:\n",
        "      return 0\n",
        "    jaccard_index = (len(set(train_graph.successors(a)).intersection(set(train_graph.successors(b)))))/(len(set(train_graph.successors(a)).union(set(train_graph.successors(b)))))\n",
        "    return jaccard_index\n",
        "  except:\n",
        "    return 0\n",
        "  return jaccard_index"
      ],
      "execution_count": 62,
      "outputs": []
    },
    {
      "cell_type": "code",
      "metadata": {
        "id": "pIMLwubknZ63",
        "outputId": "8768bc83-d42e-441d-ac3a-446b4270e421",
        "colab": {
          "base_uri": "https://localhost:8080/",
          "height": 34
        }
      },
      "source": [
        "jaccard_for_followees(random.randint(1,1780722),random.randint(1,1780722))\n",
        "# jaccard_for_followers(273084,1505602)"
      ],
      "execution_count": 63,
      "outputs": [
        {
          "output_type": "execute_result",
          "data": {
            "text/plain": [
              "0.0"
            ]
          },
          "metadata": {
            "tags": []
          },
          "execution_count": 63
        }
      ]
    },
    {
      "cell_type": "code",
      "metadata": {
        "id": "6IFTDISlnwOn"
      },
      "source": [
        "def jaccard_for_followers(a,b):\n",
        "  jaccard_index=0\n",
        "  try:\n",
        "    if len(set(train_graph.predecessors(a)))==0 or len(set(train_graph.predecessors(b)))==0:\n",
        "      return 0\n",
        "    jaccard_index = (len(set(train_graph.predecessors(a)).intersection(set(train_graph.predecessors(b)))))/(len(set(train_graph.predecessors(a)).union(set(train_graph.predecessors(b)))))\n",
        "    return jaccard_index\n",
        "  except:\n",
        "    return 0\n",
        "  return jaccard_index"
      ],
      "execution_count": 64,
      "outputs": []
    },
    {
      "cell_type": "code",
      "metadata": {
        "id": "8X5SSWBQmnFq",
        "outputId": "d787f764-8d12-4802-d149-e926f07e1981",
        "colab": {
          "base_uri": "https://localhost:8080/",
          "height": 34
        }
      },
      "source": [
        "print(jaccard_for_followers(273084,470294))"
      ],
      "execution_count": 65,
      "outputs": [
        {
          "output_type": "stream",
          "text": [
            "0.0\n"
          ],
          "name": "stdout"
        }
      ]
    },
    {
      "cell_type": "markdown",
      "metadata": {
        "id": "i5Os1lTMrcGZ"
      },
      "source": [
        "###### Cosine Distance"
      ]
    },
    {
      "cell_type": "code",
      "metadata": {
        "id": "1M_mB4sWrfbs"
      },
      "source": [
        "def cosine_for_followees(a,b):\n",
        "  try:\n",
        "    if len(set(train_graph.successors(a)))==0 | len(set(train_graph.successors(b)))==0:\n",
        "      return 0\n",
        "    consine = len(set(train_graph.successors(a)).intersection(set(train_graph.successors(b))))/(math.sqrt(len(set(train_graph.successors(a)))*len(set(train_graph.successors(b)))))\n",
        "    return cosine\n",
        "  except:\n",
        "    return 0"
      ],
      "execution_count": 66,
      "outputs": []
    },
    {
      "cell_type": "code",
      "metadata": {
        "id": "NIiv4todrb2y",
        "outputId": "e0b05197-7333-4ef1-aa09-b9e608253fb8",
        "colab": {
          "base_uri": "https://localhost:8080/",
          "height": 34
        }
      },
      "source": [
        "print(cosine_for_followees(273084,1505602))"
      ],
      "execution_count": 67,
      "outputs": [
        {
          "output_type": "stream",
          "text": [
            "0\n"
          ],
          "name": "stdout"
        }
      ]
    },
    {
      "cell_type": "code",
      "metadata": {
        "id": "OHec7Xrqsc49"
      },
      "source": [
        "def cosine_for_followers(a,b):\n",
        "    try:\n",
        "        \n",
        "        if len(set(train_graph.predecessors(a))) == 0  | len(set(train_graph.predecessors(b))) == 0:\n",
        "            return 0\n",
        "        sim = (len(set(train_graph.predecessors(a)).intersection(set(train_graph.predecessors(b)))))/\\\n",
        "                                     (math.sqrt(len(set(train_graph.predecessors(a))))*(len(set(train_graph.predecessors(b)))))\n",
        "        return sim\n",
        "    except:\n",
        "        return 0"
      ],
      "execution_count": 70,
      "outputs": []
    },
    {
      "cell_type": "code",
      "metadata": {
        "id": "kOF5sCP4s9-_",
        "outputId": "7646a958-22c9-4ee5-dd50-4e010a178f04",
        "colab": {
          "base_uri": "https://localhost:8080/",
          "height": 34
        }
      },
      "source": [
        "print(cosine_for_followers(2,470294))"
      ],
      "execution_count": 71,
      "outputs": [
        {
          "output_type": "stream",
          "text": [
            "0\n"
          ],
          "name": "stdout"
        }
      ]
    },
    {
      "cell_type": "code",
      "metadata": {
        "id": "OW_sFotGofwJ",
        "outputId": "a07e696f-e91e-4035-bcd9-40395bcaf62e",
        "colab": {
          "base_uri": "https://localhost:8080/",
          "height": 34
        }
      },
      "source": [
        "#node 1635354 not in graph \n",
        "print(jaccard_for_followees(669354,1635354))"
      ],
      "execution_count": 43,
      "outputs": [
        {
          "output_type": "stream",
          "text": [
            "0\n"
          ],
          "name": "stdout"
        }
      ]
    },
    {
      "cell_type": "code",
      "metadata": {
        "id": "1F7CQ6F9ccLY",
        "outputId": "071c71b3-d12f-481e-9a0e-2432b97973b4",
        "colab": {
          "base_uri": "https://localhost:8080/",
          "height": 34
        }
      },
      "source": [
        "G=nx.path_graph(4)\n",
        "print(b)\n",
        "# [0, 1, 2, 3]\n",
        "# nx.predecessor(G,0)\n",
        "# {0: [], 1: [0], 2: [1], 3: [2]}"
      ],
      "execution_count": 7,
      "outputs": [
        {
          "output_type": "stream",
          "text": [
            "[0, 1, 2, 3]\n"
          ],
          "name": "stdout"
        }
      ]
    },
    {
      "cell_type": "markdown",
      "metadata": {
        "id": "NHyfRizicbUc"
      },
      "source": [
        ""
      ]
    },
    {
      "cell_type": "code",
      "metadata": {
        "id": "7foqasmVjsKk",
        "outputId": "54dafcf6-37bc-4dd1-d252-c01e423185ed",
        "colab": {
          "base_uri": "https://localhost:8080/",
          "height": 319
        }
      },
      "source": [
        "nx.draw(G,pos,node_color='#A0CBE2',edge_color='#00bb5e',width=1,edge_cmap=plt.cm.Blues,with_labels=True)"
      ],
      "execution_count": 13,
      "outputs": [
        {
          "output_type": "display_data",
          "data": {
            "image/png": "[encoded data removed]",
            "text/plain": [
              "<Figure size 432x288 with 1 Axes>"
            ]
          },
          "metadata": {
            "tags": []
          }
        }
      ]
    }
  ]
}